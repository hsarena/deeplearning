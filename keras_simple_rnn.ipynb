{
  "nbformat": 4,
  "nbformat_minor": 0,
  "metadata": {
    "colab": {
      "name": "keras_simple_rnn.ipynb",
      "version": "0.3.2",
      "provenance": [],
      "collapsed_sections": [],
      "include_colab_link": true
    },
    "kernelspec": {
      "name": "python3",
      "display_name": "Python 3"
    }
  },
  "cells": [
    {
      "cell_type": "markdown",
      "metadata": {
        "id": "view-in-github",
        "colab_type": "text"
      },
      "source": [
        "[View in Colaboratory](https://colab.research.google.com/github/hsarena/dl-rnn/blob/master/keras_simple_rnn.ipynb)"
      ]
    },
    {
      "metadata": {
        "id": "2LN0Rrl6KA67",
        "colab_type": "code",
        "colab": {}
      },
      "cell_type": "code",
      "source": [
        "import keras\n",
        "import matplotlib.pyplot as plt\n",
        "import numpy as np\n",
        "from keras.datasets import mnist\n",
        "from keras.models import Sequential\n",
        "from keras.layers import Dense, Input, SimpleRNN, LSTM, GRU\n",
        "from keras.optimizers import Adam\n",
        "from keras.initializers import RandomNormal\n",
        "from keras.models import load_model"
      ],
      "execution_count": 0,
      "outputs": []
    },
    {
      "metadata": {
        "id": "llUjJUFOKSvf",
        "colab_type": "code",
        "colab": {}
      },
      "cell_type": "code",
      "source": [
        "(x_train,y_train),(x_test,y_test) = mnist.load_data()"
      ],
      "execution_count": 0,
      "outputs": []
    },
    {
      "metadata": {
        "id": "oOc0K4XWKiYY",
        "colab_type": "code",
        "colab": {}
      },
      "cell_type": "code",
      "source": [
        "num_classes = 10\n",
        "nb_units = 50\n",
        "seq_length = 28\n",
        "feature_size = 28"
      ],
      "execution_count": 0,
      "outputs": []
    },
    {
      "metadata": {
        "id": "XCbnJlLwKxqr",
        "colab_type": "text"
      },
      "cell_type": "markdown",
      "source": [
        "Normalize Data"
      ]
    },
    {
      "metadata": {
        "id": "U6crC7xPKtto",
        "colab_type": "code",
        "colab": {}
      },
      "cell_type": "code",
      "source": [
        "x_train = x_train/np.max(x_train)\n",
        "x_test = x_test/np.max(x_train)                           "
      ],
      "execution_count": 0,
      "outputs": []
    },
    {
      "metadata": {
        "id": "venUAGGkK_ie",
        "colab_type": "text"
      },
      "cell_type": "markdown",
      "source": [
        "Change data representation to One Hot "
      ]
    },
    {
      "metadata": {
        "id": "hm6osjY8K0bw",
        "colab_type": "code",
        "colab": {}
      },
      "cell_type": "code",
      "source": [
        "y_train = keras.utils.to_categorical(y_train,num_classes)\n",
        "y_test = keras.utils.to_categorical(y_test,num_classes)"
      ],
      "execution_count": 0,
      "outputs": []
    },
    {
      "metadata": {
        "id": "pkeeXb0tMrg_",
        "colab_type": "text"
      },
      "cell_type": "markdown",
      "source": [
        "Define Model"
      ]
    },
    {
      "metadata": {
        "id": "OSUgfqbNK-sL",
        "colab_type": "code",
        "colab": {}
      },
      "cell_type": "code",
      "source": [
        "model = Sequential()\n",
        "model.add( GRU( nb_units,input_shape=(seq_length,feature_size)))\n",
        "model.add( Dense(10,activation='relu'))"
      ],
      "execution_count": 0,
      "outputs": []
    },
    {
      "metadata": {
        "id": "eygD7zD7Mt3J",
        "colab_type": "text"
      },
      "cell_type": "markdown",
      "source": [
        "Compile Model"
      ]
    },
    {
      "metadata": {
        "id": "M6rKoDT6NGUV",
        "colab_type": "code",
        "colab": {}
      },
      "cell_type": "code",
      "source": [
        "loss=keras.losses.categorical_crossentropy"
      ],
      "execution_count": 0,
      "outputs": []
    },
    {
      "metadata": {
        "id": "1IXDkFhbMncK",
        "colab_type": "code",
        "colab": {}
      },
      "cell_type": "code",
      "source": [
        "model.compile(optimizer='adam',loss=loss,metrics=['accuracy'])"
      ],
      "execution_count": 0,
      "outputs": []
    },
    {
      "metadata": {
        "id": "zNgqqsANNmXa",
        "colab_type": "code",
        "colab": {
          "base_uri": "https://localhost:8080/",
          "height": 215
        },
        "outputId": "d7096e96-6b03-4657-a797-1761713a4d67"
      },
      "cell_type": "code",
      "source": [
        "model.summary()"
      ],
      "execution_count": 49,
      "outputs": [
        {
          "output_type": "stream",
          "text": [
            "_________________________________________________________________\n",
            "Layer (type)                 Output Shape              Param #   \n",
            "=================================================================\n",
            "gru_1 (GRU)                  (None, 50)                11850     \n",
            "_________________________________________________________________\n",
            "dense_4 (Dense)              (None, 10)                510       \n",
            "=================================================================\n",
            "Total params: 12,360\n",
            "Trainable params: 12,360\n",
            "Non-trainable params: 0\n",
            "_________________________________________________________________\n"
          ],
          "name": "stdout"
        }
      ]
    },
    {
      "metadata": {
        "id": "BLrTv68aNsTI",
        "colab_type": "code",
        "colab": {
          "base_uri": "https://localhost:8080/",
          "height": 145
        },
        "outputId": "73fd501d-fcc9-4b88-f010-e288a4262dfc"
      },
      "cell_type": "code",
      "source": [
        "epochs = 3\n",
        "# Complete following line, using  batch_size=128 is suggested.\n",
        "history = model.fit(x_train, y_train,\n",
        "          batch_size=128,\n",
        "          epochs=epochs,\n",
        "          verbose=1 )"
      ],
      "execution_count": 52,
      "outputs": [
        {
          "output_type": "stream",
          "text": [
            "Epoch 1/3\n",
            "60000/60000 [==============================] - 13s 221us/step - loss: 1.5308 - acc: 0.5424\n",
            "Epoch 2/3\n",
            "60000/60000 [==============================] - 14s 226us/step - loss: 1.4285 - acc: 0.5919\n",
            "Epoch 3/3\n",
            "27776/60000 [============>.................] - ETA: 7s - loss: 1.3651 - acc: 0.6058"
          ],
          "name": "stdout"
        },
        {
          "output_type": "stream",
          "text": [
            "60000/60000 [==============================] - 13s 218us/step - loss: 1.3431 - acc: 0.6252\n"
          ],
          "name": "stdout"
        }
      ]
    },
    {
      "metadata": {
        "id": "YtzJo59sNzxg",
        "colab_type": "code",
        "colab": {
          "base_uri": "https://localhost:8080/",
          "height": 380
        },
        "outputId": "089a32c8-691d-45a2-b1bb-4d96d5b94d44"
      },
      "cell_type": "code",
      "source": [
        "\n",
        "plt.plot(history.epoch,history.history['acc'])\n",
        "plt.title('accuracy')"
      ],
      "execution_count": 53,
      "outputs": [
        {
          "output_type": "execute_result",
          "data": {
            "text/plain": [
              "Text(0.5,1,'accuracy')"
            ]
          },
          "metadata": {
            "tags": []
          },
          "execution_count": 53
        },
        {
          "output_type": "display_data",
          "data": {
            "image/png": "[encoded data removed]",
            "text/plain": [
              "<matplotlib.figure.Figure at 0x7f405c060828>"
            ]
          },
          "metadata": {
            "tags": []
          }
        }
      ]
    },
    {
      "metadata": {
        "id": "bwCNwKtPN-qz",
        "colab_type": "code",
        "colab": {
          "base_uri": "https://localhost:8080/",
          "height": 380
        },
        "outputId": "67c83336-e95f-4c36-bdfd-a45376141ef9"
      },
      "cell_type": "code",
      "source": [
        "plt.plot(history.epoch,history.history['loss'])\n",
        "plt.title('loss')\n"
      ],
      "execution_count": 54,
      "outputs": [
        {
          "output_type": "execute_result",
          "data": {
            "text/plain": [
              "Text(0.5,1,'loss')"
            ]
          },
          "metadata": {
            "tags": []
          },
          "execution_count": 54
        },
        {
          "output_type": "display_data",
          "data": {
            "image/png": "[encoded data removed]",
            "text/plain": [
              "<matplotlib.figure.Figure at 0x7f405bf37ba8>"
            ]
          },
          "metadata": {
            "tags": []
          }
        }
      ]
    },
    {
      "metadata": {
        "id": "yJ8YRzYeOcvb",
        "colab_type": "code",
        "colab": {
          "base_uri": "https://localhost:8080/",
          "height": 53
        },
        "outputId": "cfea1796-b7b1-4fcf-e44d-4713d36bd99b"
      },
      "cell_type": "code",
      "source": [
        "scores = model.evaluate(x_test,y_test,verbose=1)\n",
        "\n",
        "print(\"%s: %.2f%%\" % (model.metrics_names[1], scores[1]*100))"
      ],
      "execution_count": 55,
      "outputs": [
        {
          "output_type": "stream",
          "text": [
            "10000/10000 [==============================] - 1s 130us/step\n",
            "acc: 65.43%\n"
          ],
          "name": "stdout"
        }
      ]
    },
    {
      "metadata": {
        "id": "VqOoFDevP1Ue",
        "colab_type": "code",
        "colab": {}
      },
      "cell_type": "code",
      "source": [
        ""
      ],
      "execution_count": 0,
      "outputs": []
    }
  ]
}